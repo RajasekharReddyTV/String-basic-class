{
 "cells": [
  {
   "cell_type": "code",
   "execution_count": 14,
   "id": "0d1b7875",
   "metadata": {},
   "outputs": [],
   "source": [
    "R = \"Some Thing\""
   ]
  },
  {
   "cell_type": "code",
   "execution_count": 15,
   "id": "dd3731c7",
   "metadata": {},
   "outputs": [
    {
     "data": {
      "text/plain": [
       "str"
      ]
     },
     "execution_count": 15,
     "metadata": {},
     "output_type": "execute_result"
    }
   ],
   "source": [
    "type(R)"
   ]
  },
  {
   "cell_type": "code",
   "execution_count": 16,
   "id": "72f41733",
   "metadata": {},
   "outputs": [
    {
     "data": {
      "text/plain": [
       "'S'"
      ]
     },
     "execution_count": 16,
     "metadata": {},
     "output_type": "execute_result"
    }
   ],
   "source": [
    "R[0]"
   ]
  },
  {
   "cell_type": "code",
   "execution_count": 17,
   "id": "9f246c76",
   "metadata": {},
   "outputs": [
    {
     "data": {
      "text/plain": [
       "'h'"
      ]
     },
     "execution_count": 17,
     "metadata": {},
     "output_type": "execute_result"
    }
   ],
   "source": [
    "R[6]"
   ]
  },
  {
   "cell_type": "code",
   "execution_count": 18,
   "id": "f1e17798",
   "metadata": {},
   "outputs": [
    {
     "data": {
      "text/plain": [
       "'g'"
      ]
     },
     "execution_count": 18,
     "metadata": {},
     "output_type": "execute_result"
    }
   ],
   "source": [
    "R[-1]"
   ]
  },
  {
   "cell_type": "code",
   "execution_count": 19,
   "id": "50681141",
   "metadata": {},
   "outputs": [
    {
     "data": {
      "text/plain": [
       "'o'"
      ]
     },
     "execution_count": 19,
     "metadata": {},
     "output_type": "execute_result"
    }
   ],
   "source": [
    "R[-9]"
   ]
  },
  {
   "cell_type": "code",
   "execution_count": 20,
   "id": "5801e451",
   "metadata": {},
   "outputs": [
    {
     "data": {
      "text/plain": [
       "'S'"
      ]
     },
     "execution_count": 20,
     "metadata": {},
     "output_type": "execute_result"
    }
   ],
   "source": [
    "R[-10]"
   ]
  },
  {
   "cell_type": "code",
   "execution_count": 21,
   "id": "3faaeb0a",
   "metadata": {},
   "outputs": [
    {
     "ename": "IndexError",
     "evalue": "string index out of range",
     "output_type": "error",
     "traceback": [
      "\u001b[1;31m---------------------------------------------------------------------------\u001b[0m",
      "\u001b[1;31mIndexError\u001b[0m                                Traceback (most recent call last)",
      "Input \u001b[1;32mIn [21]\u001b[0m, in \u001b[0;36m<cell line: 1>\u001b[1;34m()\u001b[0m\n\u001b[1;32m----> 1\u001b[0m \u001b[43mR\u001b[49m\u001b[43m[\u001b[49m\u001b[38;5;241;43m-\u001b[39;49m\u001b[38;5;241;43m15\u001b[39;49m\u001b[43m]\u001b[49m\n",
      "\u001b[1;31mIndexError\u001b[0m: string index out of range"
     ]
    }
   ],
   "source": [
    "R[-15]"
   ]
  },
  {
   "cell_type": "code",
   "execution_count": 22,
   "id": "e66781d4",
   "metadata": {},
   "outputs": [
    {
     "data": {
      "text/plain": [
       "' '"
      ]
     },
     "execution_count": 22,
     "metadata": {},
     "output_type": "execute_result"
    }
   ],
   "source": [
    "R[-6]"
   ]
  },
  {
   "cell_type": "code",
   "execution_count": 23,
   "id": "fa2ca319",
   "metadata": {},
   "outputs": [],
   "source": [
    "R1 ='big thinking'"
   ]
  },
  {
   "cell_type": "code",
   "execution_count": 24,
   "id": "7424f705",
   "metadata": {},
   "outputs": [
    {
     "data": {
      "text/plain": [
       "'Some Thingbig thinking'"
      ]
     },
     "execution_count": 24,
     "metadata": {},
     "output_type": "execute_result"
    }
   ],
   "source": [
    "R+R1"
   ]
  },
  {
   "cell_type": "code",
   "execution_count": 27,
   "id": "a318f914",
   "metadata": {},
   "outputs": [],
   "source": [
    "R2 = \"i have to complete today's work\""
   ]
  },
  {
   "cell_type": "code",
   "execution_count": 28,
   "id": "7aeed0b9",
   "metadata": {},
   "outputs": [
    {
     "data": {
      "text/plain": [
       "\"i have to complete today's work\""
      ]
     },
     "execution_count": 28,
     "metadata": {},
     "output_type": "execute_result"
    }
   ],
   "source": [
    "R2"
   ]
  },
  {
   "cell_type": "code",
   "execution_count": 29,
   "id": "3fecc4b2",
   "metadata": {},
   "outputs": [
    {
     "ename": "TypeError",
     "evalue": "unsupported operand type(s) for -: 'str' and 'str'",
     "output_type": "error",
     "traceback": [
      "\u001b[1;31m---------------------------------------------------------------------------\u001b[0m",
      "\u001b[1;31mTypeError\u001b[0m                                 Traceback (most recent call last)",
      "Input \u001b[1;32mIn [29]\u001b[0m, in \u001b[0;36m<cell line: 1>\u001b[1;34m()\u001b[0m\n\u001b[1;32m----> 1\u001b[0m \u001b[43mR\u001b[49m\u001b[38;5;241;43m-\u001b[39;49m\u001b[43mR1\u001b[49m\n",
      "\u001b[1;31mTypeError\u001b[0m: unsupported operand type(s) for -: 'str' and 'str'"
     ]
    }
   ],
   "source": [
    "R-R1"
   ]
  },
  {
   "cell_type": "code",
   "execution_count": 30,
   "id": "f05c6279",
   "metadata": {},
   "outputs": [
    {
     "ename": "TypeError",
     "evalue": "unsupported operand type(s) for -: 'str' and 'str'",
     "output_type": "error",
     "traceback": [
      "\u001b[1;31m---------------------------------------------------------------------------\u001b[0m",
      "\u001b[1;31mTypeError\u001b[0m                                 Traceback (most recent call last)",
      "Input \u001b[1;32mIn [30]\u001b[0m, in \u001b[0;36m<cell line: 1>\u001b[1;34m()\u001b[0m\n\u001b[1;32m----> 1\u001b[0m \u001b[43mR1\u001b[49m\u001b[38;5;241;43m-\u001b[39;49m\u001b[43mR\u001b[49m\n",
      "\u001b[1;31mTypeError\u001b[0m: unsupported operand type(s) for -: 'str' and 'str'"
     ]
    }
   ],
   "source": [
    "R1-R"
   ]
  },
  {
   "cell_type": "code",
   "execution_count": 31,
   "id": "90d089e1",
   "metadata": {},
   "outputs": [
    {
     "data": {
      "text/plain": [
       "\"i have to complete today's work\""
      ]
     },
     "execution_count": 31,
     "metadata": {},
     "output_type": "execute_result"
    }
   ],
   "source": [
    "R2"
   ]
  },
  {
   "cell_type": "code",
   "execution_count": 33,
   "id": "c6288cb0",
   "metadata": {},
   "outputs": [
    {
     "data": {
      "text/plain": [
       "'i have to complete t'"
      ]
     },
     "execution_count": 33,
     "metadata": {},
     "output_type": "execute_result"
    }
   ],
   "source": [
    "R2[0:20]"
   ]
  },
  {
   "cell_type": "code",
   "execution_count": 34,
   "id": "cf077086",
   "metadata": {},
   "outputs": [
    {
     "data": {
      "text/plain": [
       "\"i have to complete today's work\""
      ]
     },
     "execution_count": 34,
     "metadata": {},
     "output_type": "execute_result"
    }
   ],
   "source": [
    "R2[:]"
   ]
  },
  {
   "cell_type": "code",
   "execution_count": 35,
   "id": "c9091de3",
   "metadata": {},
   "outputs": [
    {
     "data": {
      "text/plain": [
       "\"i have to complete today's wor\""
      ]
     },
     "execution_count": 35,
     "metadata": {},
     "output_type": "execute_result"
    }
   ],
   "source": [
    "R2[:30]"
   ]
  },
  {
   "cell_type": "code",
   "execution_count": 36,
   "id": "19fb41e4",
   "metadata": {},
   "outputs": [
    {
     "data": {
      "text/plain": [
       "\"ihv ocmlt oa' o\""
      ]
     },
     "execution_count": 36,
     "metadata": {},
     "output_type": "execute_result"
    }
   ],
   "source": [
    "R2[:30:2]"
   ]
  },
  {
   "cell_type": "code",
   "execution_count": 37,
   "id": "ef9285a2",
   "metadata": {},
   "outputs": [
    {
     "data": {
      "text/plain": [
       "\"i have to complete today's wor\""
      ]
     },
     "execution_count": 37,
     "metadata": {},
     "output_type": "execute_result"
    }
   ],
   "source": [
    "R2[:30:1]"
   ]
  },
  {
   "cell_type": "code",
   "execution_count": 38,
   "id": "49759b01",
   "metadata": {},
   "outputs": [
    {
     "data": {
      "text/plain": [
       "\"ia  me d'w\""
      ]
     },
     "execution_count": 38,
     "metadata": {},
     "output_type": "execute_result"
    }
   ],
   "source": [
    "R2[:30:3]"
   ]
  },
  {
   "cell_type": "code",
   "execution_count": 39,
   "id": "ed86172f",
   "metadata": {},
   "outputs": [
    {
     "data": {
      "text/plain": [
       "\"i have to complete today's work\""
      ]
     },
     "execution_count": 39,
     "metadata": {},
     "output_type": "execute_result"
    }
   ],
   "source": [
    "R2"
   ]
  },
  {
   "cell_type": "code",
   "execution_count": 40,
   "id": "4fe8125c",
   "metadata": {},
   "outputs": [
    {
     "data": {
      "text/plain": [
       "\"ihv ocmlt oa' ok\""
      ]
     },
     "execution_count": 40,
     "metadata": {},
     "output_type": "execute_result"
    }
   ],
   "source": [
    "R2[0::2]"
   ]
  },
  {
   "cell_type": "code",
   "execution_count": 41,
   "id": "cda9d682",
   "metadata": {},
   "outputs": [
    {
     "data": {
      "text/plain": [
       "\"i have to complete today's work\""
      ]
     },
     "execution_count": 41,
     "metadata": {},
     "output_type": "execute_result"
    }
   ],
   "source": [
    "R2"
   ]
  },
  {
   "cell_type": "code",
   "execution_count": 42,
   "id": "10b6ec12",
   "metadata": {},
   "outputs": [
    {
     "data": {
      "text/plain": [
       "\"ia  me d'wk\""
      ]
     },
     "execution_count": 42,
     "metadata": {},
     "output_type": "execute_result"
    }
   ],
   "source": [
    "R2[0::3]"
   ]
  },
  {
   "cell_type": "code",
   "execution_count": 44,
   "id": "e27a266b",
   "metadata": {},
   "outputs": [
    {
     "data": {
      "text/plain": [
       "\"i have to complete today's work\""
      ]
     },
     "execution_count": 44,
     "metadata": {},
     "output_type": "execute_result"
    }
   ],
   "source": [
    "R2"
   ]
  },
  {
   "cell_type": "code",
   "execution_count": 45,
   "id": "8fec285b",
   "metadata": {},
   "outputs": [
    {
     "data": {
      "text/plain": [
       "\"krow s'yadot etelpmoc ot evah i\""
      ]
     },
     "execution_count": 45,
     "metadata": {},
     "output_type": "execute_result"
    }
   ],
   "source": [
    "R2[::-1]"
   ]
  },
  {
   "cell_type": "code",
   "execution_count": 46,
   "id": "4b4360c5",
   "metadata": {},
   "outputs": [],
   "source": [
    "R3 = 'Rajasekhar'"
   ]
  },
  {
   "cell_type": "code",
   "execution_count": 47,
   "id": "f83c23d8",
   "metadata": {},
   "outputs": [
    {
     "data": {
      "text/plain": [
       "''"
      ]
     },
     "execution_count": 47,
     "metadata": {},
     "output_type": "execute_result"
    }
   ],
   "source": [
    "R3[0:10:-1]"
   ]
  },
  {
   "cell_type": "code",
   "execution_count": 48,
   "id": "e805a592",
   "metadata": {},
   "outputs": [
    {
     "data": {
      "text/plain": [
       "'rahkesajaR'"
      ]
     },
     "execution_count": 48,
     "metadata": {},
     "output_type": "execute_result"
    }
   ],
   "source": [
    "R3[-1:-11:-1]"
   ]
  },
  {
   "cell_type": "code",
   "execution_count": 49,
   "id": "ab0a691d",
   "metadata": {},
   "outputs": [
    {
     "data": {
      "text/plain": [
       "'rahkesaja'"
      ]
     },
     "execution_count": 49,
     "metadata": {},
     "output_type": "execute_result"
    }
   ],
   "source": [
    "R3[10:0:-1]"
   ]
  },
  {
   "cell_type": "code",
   "execution_count": 50,
   "id": "302add87",
   "metadata": {},
   "outputs": [
    {
     "data": {
      "text/plain": [
       "'Rajasekhar'"
      ]
     },
     "execution_count": 50,
     "metadata": {},
     "output_type": "execute_result"
    }
   ],
   "source": [
    "R3"
   ]
  },
  {
   "cell_type": "code",
   "execution_count": 51,
   "id": "7cec2d03",
   "metadata": {},
   "outputs": [
    {
     "data": {
      "text/plain": [
       "''"
      ]
     },
     "execution_count": 51,
     "metadata": {},
     "output_type": "execute_result"
    }
   ],
   "source": [
    "R3[10:0]"
   ]
  },
  {
   "cell_type": "code",
   "execution_count": 52,
   "id": "60e72a06",
   "metadata": {},
   "outputs": [
    {
     "data": {
      "text/plain": [
       "'rahkesaja'"
      ]
     },
     "execution_count": 52,
     "metadata": {},
     "output_type": "execute_result"
    }
   ],
   "source": [
    "R3[10:0:-1]"
   ]
  },
  {
   "cell_type": "code",
   "execution_count": 53,
   "id": "24411b17",
   "metadata": {},
   "outputs": [
    {
     "data": {
      "text/plain": [
       "''"
      ]
     },
     "execution_count": 53,
     "metadata": {},
     "output_type": "execute_result"
    }
   ],
   "source": [
    "R3[10:-1:-1]"
   ]
  },
  {
   "cell_type": "code",
   "execution_count": 54,
   "id": "382e4e50",
   "metadata": {},
   "outputs": [
    {
     "data": {
      "text/plain": [
       "'rheaa'"
      ]
     },
     "execution_count": 54,
     "metadata": {},
     "output_type": "execute_result"
    }
   ],
   "source": [
    "R3[10:0:-2]"
   ]
  },
  {
   "cell_type": "code",
   "execution_count": 55,
   "id": "5b3e2251",
   "metadata": {},
   "outputs": [
    {
     "data": {
      "text/plain": [
       "'Rajasekhar'"
      ]
     },
     "execution_count": 55,
     "metadata": {},
     "output_type": "execute_result"
    }
   ],
   "source": [
    " R3"
   ]
  },
  {
   "cell_type": "code",
   "execution_count": 56,
   "id": "f3779c4f",
   "metadata": {},
   "outputs": [
    {
     "data": {
      "text/plain": [
       "'rheaa'"
      ]
     },
     "execution_count": 56,
     "metadata": {},
     "output_type": "execute_result"
    }
   ],
   "source": [
    "R3[10:0:-2]"
   ]
  },
  {
   "cell_type": "code",
   "execution_count": 57,
   "id": "385d1e12",
   "metadata": {},
   "outputs": [
    {
     "data": {
      "text/plain": [
       "''"
      ]
     },
     "execution_count": 57,
     "metadata": {},
     "output_type": "execute_result"
    }
   ],
   "source": [
    "R3[10:0:2]"
   ]
  },
  {
   "cell_type": "code",
   "execution_count": 58,
   "id": "ba66f50c",
   "metadata": {},
   "outputs": [
    {
     "data": {
      "text/plain": [
       "'rahkesaja'"
      ]
     },
     "execution_count": 58,
     "metadata": {},
     "output_type": "execute_result"
    }
   ],
   "source": [
    "R3[10:0:-1]"
   ]
  },
  {
   "cell_type": "code",
   "execution_count": 59,
   "id": "64903d3f",
   "metadata": {},
   "outputs": [
    {
     "data": {
      "text/plain": [
       "'rahkesaja'"
      ]
     },
     "execution_count": 59,
     "metadata": {},
     "output_type": "execute_result"
    }
   ],
   "source": [
    "R3[11:0:-1]"
   ]
  },
  {
   "cell_type": "code",
   "execution_count": 61,
   "id": "8a2d8687",
   "metadata": {},
   "outputs": [
    {
     "data": {
      "text/plain": [
       "''"
      ]
     },
     "execution_count": 61,
     "metadata": {},
     "output_type": "execute_result"
    }
   ],
   "source": [
    "R3[11:0:1]"
   ]
  },
  {
   "cell_type": "code",
   "execution_count": 62,
   "id": "bc4a9fbd",
   "metadata": {},
   "outputs": [
    {
     "data": {
      "text/plain": [
       "'Rajasekhar'"
      ]
     },
     "execution_count": 62,
     "metadata": {},
     "output_type": "execute_result"
    }
   ],
   "source": [
    "R3"
   ]
  },
  {
   "cell_type": "code",
   "execution_count": 65,
   "id": "edc59f5e",
   "metadata": {},
   "outputs": [
    {
     "data": {
      "text/plain": [
       "''"
      ]
     },
     "execution_count": 65,
     "metadata": {},
     "output_type": "execute_result"
    }
   ],
   "source": [
    "R3[0:10:-1]"
   ]
  },
  {
   "cell_type": "code",
   "execution_count": 66,
   "id": "0fa2f418",
   "metadata": {},
   "outputs": [
    {
     "data": {
      "text/plain": [
       "'Rajasekhar'"
      ]
     },
     "execution_count": 66,
     "metadata": {},
     "output_type": "execute_result"
    }
   ],
   "source": [
    "R3"
   ]
  },
  {
   "cell_type": "code",
   "execution_count": 67,
   "id": "560db28b",
   "metadata": {},
   "outputs": [
    {
     "data": {
      "text/plain": [
       "'rheaa'"
      ]
     },
     "execution_count": 67,
     "metadata": {},
     "output_type": "execute_result"
    }
   ],
   "source": [
    "R3[10:0:-2]"
   ]
  },
  {
   "cell_type": "code",
   "execution_count": 68,
   "id": "807b657c",
   "metadata": {},
   "outputs": [
    {
     "data": {
      "text/plain": [
       "''"
      ]
     },
     "execution_count": 68,
     "metadata": {},
     "output_type": "execute_result"
    }
   ],
   "source": [
    "R3[0:-5:-1]"
   ]
  },
  {
   "cell_type": "code",
   "execution_count": 69,
   "id": "71cbc2a7",
   "metadata": {},
   "outputs": [
    {
     "data": {
      "text/plain": [
       "'Rajasekhar'"
      ]
     },
     "execution_count": 69,
     "metadata": {},
     "output_type": "execute_result"
    }
   ],
   "source": [
    "R3"
   ]
  },
  {
   "cell_type": "code",
   "execution_count": 70,
   "id": "cd091263",
   "metadata": {},
   "outputs": [
    {
     "data": {
      "text/plain": [
       "''"
      ]
     },
     "execution_count": 70,
     "metadata": {},
     "output_type": "execute_result"
    }
   ],
   "source": [
    "R3[0:-5:-1]"
   ]
  },
  {
   "cell_type": "code",
   "execution_count": 71,
   "id": "3e4e4a2d",
   "metadata": {},
   "outputs": [
    {
     "data": {
      "text/plain": [
       "'Rajasekhar'"
      ]
     },
     "execution_count": 71,
     "metadata": {},
     "output_type": "execute_result"
    }
   ],
   "source": [
    "R3"
   ]
  },
  {
   "cell_type": "code",
   "execution_count": 84,
   "id": "3b36b6b6",
   "metadata": {},
   "outputs": [
    {
     "data": {
      "text/plain": [
       "'rahkesajaR'"
      ]
     },
     "execution_count": 84,
     "metadata": {},
     "output_type": "execute_result"
    }
   ],
   "source": [
    "R3[-1:-11:-1]"
   ]
  },
  {
   "cell_type": "code",
   "execution_count": 73,
   "id": "49c5144c",
   "metadata": {},
   "outputs": [
    {
     "data": {
      "text/plain": [
       "'Rajasekhar'"
      ]
     },
     "execution_count": 73,
     "metadata": {},
     "output_type": "execute_result"
    }
   ],
   "source": [
    "R3"
   ]
  },
  {
   "cell_type": "code",
   "execution_count": 74,
   "id": "60ad1dd3",
   "metadata": {},
   "outputs": [
    {
     "data": {
      "text/plain": [
       "'rheaa'"
      ]
     },
     "execution_count": 74,
     "metadata": {},
     "output_type": "execute_result"
    }
   ],
   "source": [
    "R3[-1:0:-2]"
   ]
  },
  {
   "cell_type": "code",
   "execution_count": 75,
   "id": "d0f43a57",
   "metadata": {},
   "outputs": [
    {
     "data": {
      "text/plain": [
       "'Rajas'"
      ]
     },
     "execution_count": 75,
     "metadata": {},
     "output_type": "execute_result"
    }
   ],
   "source": [
    "R3[0:-5:1]"
   ]
  },
  {
   "cell_type": "code",
   "execution_count": 76,
   "id": "c84b7afb",
   "metadata": {},
   "outputs": [
    {
     "data": {
      "text/plain": [
       "'rahk'"
      ]
     },
     "execution_count": 76,
     "metadata": {},
     "output_type": "execute_result"
    }
   ],
   "source": [
    "R3[-1:5:-1]"
   ]
  },
  {
   "cell_type": "code",
   "execution_count": 77,
   "id": "d752b3a8",
   "metadata": {},
   "outputs": [
    {
     "data": {
      "text/plain": [
       "'ekha'"
      ]
     },
     "execution_count": 77,
     "metadata": {},
     "output_type": "execute_result"
    }
   ],
   "source": [
    "R3[-5:-1:1]"
   ]
  },
  {
   "cell_type": "code",
   "execution_count": 78,
   "id": "2fd38bcc",
   "metadata": {},
   "outputs": [
    {
     "data": {
      "text/plain": [
       "''"
      ]
     },
     "execution_count": 78,
     "metadata": {},
     "output_type": "execute_result"
    }
   ],
   "source": [
    "R3[-5:-1:-1]"
   ]
  },
  {
   "cell_type": "code",
   "execution_count": 79,
   "id": "261fbd57",
   "metadata": {},
   "outputs": [
    {
     "data": {
      "text/plain": [
       "'rahk'"
      ]
     },
     "execution_count": 79,
     "metadata": {},
     "output_type": "execute_result"
    }
   ],
   "source": [
    "R3[-1:-5:-1]"
   ]
  },
  {
   "cell_type": "code",
   "execution_count": 80,
   "id": "9f8fe6e3",
   "metadata": {},
   "outputs": [
    {
     "data": {
      "text/plain": [
       "''"
      ]
     },
     "execution_count": 80,
     "metadata": {},
     "output_type": "execute_result"
    }
   ],
   "source": [
    "R3[0:-5:-1]"
   ]
  },
  {
   "cell_type": "code",
   "execution_count": 81,
   "id": "88b1492e",
   "metadata": {},
   "outputs": [
    {
     "data": {
      "text/plain": [
       "'rahk'"
      ]
     },
     "execution_count": 81,
     "metadata": {},
     "output_type": "execute_result"
    }
   ],
   "source": [
    "R3[10:-5:-1]"
   ]
  },
  {
   "cell_type": "code",
   "execution_count": 82,
   "id": "7a2f8215",
   "metadata": {},
   "outputs": [
    {
     "data": {
      "text/plain": [
       "''"
      ]
     },
     "execution_count": 82,
     "metadata": {},
     "output_type": "execute_result"
    }
   ],
   "source": [
    "R3[0:10:-1]"
   ]
  },
  {
   "cell_type": "code",
   "execution_count": 83,
   "id": "364b51e8",
   "metadata": {},
   "outputs": [
    {
     "data": {
      "text/plain": [
       "'r'"
      ]
     },
     "execution_count": 83,
     "metadata": {},
     "output_type": "execute_result"
    }
   ],
   "source": [
    "R3[10:-2:-1]"
   ]
  },
  {
   "cell_type": "code",
   "execution_count": 85,
   "id": "6b1a772b",
   "metadata": {},
   "outputs": [
    {
     "data": {
      "text/plain": [
       "'R'"
      ]
     },
     "execution_count": 85,
     "metadata": {},
     "output_type": "execute_result"
    }
   ],
   "source": [
    "R3[0:-11:-1]"
   ]
  },
  {
   "cell_type": "code",
   "execution_count": 86,
   "id": "ff6be5af",
   "metadata": {},
   "outputs": [
    {
     "data": {
      "text/plain": [
       "''"
      ]
     },
     "execution_count": 86,
     "metadata": {},
     "output_type": "execute_result"
    }
   ],
   "source": [
    "R3[0:-10:-1]"
   ]
  },
  {
   "cell_type": "code",
   "execution_count": 87,
   "id": "19319ca9",
   "metadata": {},
   "outputs": [
    {
     "data": {
      "text/plain": [
       "'R'"
      ]
     },
     "execution_count": 87,
     "metadata": {},
     "output_type": "execute_result"
    }
   ],
   "source": [
    "R3[-10::-1]"
   ]
  },
  {
   "cell_type": "code",
   "execution_count": 88,
   "id": "30f8734c",
   "metadata": {},
   "outputs": [
    {
     "data": {
      "text/plain": [
       "'rahkesajaR'"
      ]
     },
     "execution_count": 88,
     "metadata": {},
     "output_type": "execute_result"
    }
   ],
   "source": [
    "R3[10::-1]"
   ]
  },
  {
   "cell_type": "code",
   "execution_count": 89,
   "id": "c05d4ccc",
   "metadata": {},
   "outputs": [
    {
     "data": {
      "text/plain": [
       "'Rajasekhar'"
      ]
     },
     "execution_count": 89,
     "metadata": {},
     "output_type": "execute_result"
    }
   ],
   "source": [
    "R3[::1]"
   ]
  },
  {
   "cell_type": "code",
   "execution_count": 90,
   "id": "5d18a559",
   "metadata": {},
   "outputs": [
    {
     "data": {
      "text/plain": [
       "''"
      ]
     },
     "execution_count": 90,
     "metadata": {},
     "output_type": "execute_result"
    }
   ],
   "source": [
    "R3[:10:-1]"
   ]
  },
  {
   "cell_type": "code",
   "execution_count": 92,
   "id": "8eefba81",
   "metadata": {},
   "outputs": [
    {
     "data": {
      "text/plain": [
       "'rahkesajaR'"
      ]
     },
     "execution_count": 92,
     "metadata": {},
     "output_type": "execute_result"
    }
   ],
   "source": [
    "R3[10::-1]"
   ]
  },
  {
   "cell_type": "code",
   "execution_count": 93,
   "id": "7b62158c",
   "metadata": {},
   "outputs": [
    {
     "data": {
      "text/plain": [
       "'ahkesaja'"
      ]
     },
     "execution_count": 93,
     "metadata": {},
     "output_type": "execute_result"
    }
   ],
   "source": [
    "R3[-2:-10:-1]"
   ]
  },
  {
   "cell_type": "code",
   "execution_count": 94,
   "id": "d7d16dfb",
   "metadata": {},
   "outputs": [
    {
     "data": {
      "text/plain": [
       "'r'"
      ]
     },
     "execution_count": 94,
     "metadata": {},
     "output_type": "execute_result"
    }
   ],
   "source": [
    "R3[-1::1]"
   ]
  },
  {
   "cell_type": "code",
   "execution_count": 95,
   "id": "b12a8eb7",
   "metadata": {},
   "outputs": [
    {
     "data": {
      "text/plain": [
       "'Rajas'"
      ]
     },
     "execution_count": 95,
     "metadata": {},
     "output_type": "execute_result"
    }
   ],
   "source": [
    "R3[-10:-5:1]"
   ]
  },
  {
   "cell_type": "code",
   "execution_count": 96,
   "id": "25d480aa",
   "metadata": {},
   "outputs": [
    {
     "data": {
      "text/plain": [
       "'Rajasekh'"
      ]
     },
     "execution_count": 96,
     "metadata": {},
     "output_type": "execute_result"
    }
   ],
   "source": [
    "R3[0:-2:1]"
   ]
  },
  {
   "cell_type": "code",
   "execution_count": 97,
   "id": "65948e09",
   "metadata": {},
   "outputs": [
    {
     "data": {
      "text/plain": [
       "''"
      ]
     },
     "execution_count": 97,
     "metadata": {},
     "output_type": "execute_result"
    }
   ],
   "source": [
    "R3[0:-2:-1]"
   ]
  },
  {
   "cell_type": "code",
   "execution_count": 99,
   "id": "672be68b",
   "metadata": {},
   "outputs": [
    {
     "data": {
      "text/plain": [
       "'Rajasekhar'"
      ]
     },
     "execution_count": 99,
     "metadata": {},
     "output_type": "execute_result"
    }
   ],
   "source": [
    "R3[0:50:1]"
   ]
  },
  {
   "cell_type": "code",
   "execution_count": 100,
   "id": "f6d88f7b",
   "metadata": {},
   "outputs": [
    {
     "ename": "TypeError",
     "evalue": "can only concatenate str (not \"int\") to str",
     "output_type": "error",
     "traceback": [
      "\u001b[1;31m---------------------------------------------------------------------------\u001b[0m",
      "\u001b[1;31mTypeError\u001b[0m                                 Traceback (most recent call last)",
      "Input \u001b[1;32mIn [100]\u001b[0m, in \u001b[0;36m<cell line: 1>\u001b[1;34m()\u001b[0m\n\u001b[1;32m----> 1\u001b[0m \u001b[43mR3\u001b[49m\u001b[43m \u001b[49m\u001b[38;5;241;43m+\u001b[39;49m\u001b[38;5;241;43m1\u001b[39;49m\n",
      "\u001b[1;31mTypeError\u001b[0m: can only concatenate str (not \"int\") to str"
     ]
    }
   ],
   "source": [
    " R3 +1"
   ]
  },
  {
   "cell_type": "code",
   "execution_count": 101,
   "id": "27bb1dbc",
   "metadata": {},
   "outputs": [
    {
     "data": {
      "text/plain": [
       "'Rajasekhar1'"
      ]
     },
     "execution_count": 101,
     "metadata": {},
     "output_type": "execute_result"
    }
   ],
   "source": [
    "R3 + '1'"
   ]
  },
  {
   "cell_type": "code",
   "execution_count": 102,
   "id": "8157f0b1",
   "metadata": {},
   "outputs": [
    {
     "data": {
      "text/plain": [
       "10"
      ]
     },
     "execution_count": 102,
     "metadata": {},
     "output_type": "execute_result"
    }
   ],
   "source": [
    "len(R3)"
   ]
  },
  {
   "cell_type": "code",
   "execution_count": 103,
   "id": "b3ae88e3",
   "metadata": {},
   "outputs": [
    {
     "data": {
      "text/plain": [
       "'RajasekharRajasekhar'"
      ]
     },
     "execution_count": 103,
     "metadata": {},
     "output_type": "execute_result"
    }
   ],
   "source": [
    "R3*2"
   ]
  },
  {
   "cell_type": "code",
   "execution_count": 104,
   "id": "7c181a99",
   "metadata": {},
   "outputs": [
    {
     "data": {
      "text/plain": [
       "1"
      ]
     },
     "execution_count": 104,
     "metadata": {},
     "output_type": "execute_result"
    }
   ],
   "source": [
    "R3.count('R')"
   ]
  },
  {
   "cell_type": "code",
   "execution_count": 105,
   "id": "46a9db18",
   "metadata": {},
   "outputs": [
    {
     "data": {
      "text/plain": [
       "3"
      ]
     },
     "execution_count": 105,
     "metadata": {},
     "output_type": "execute_result"
    }
   ],
   "source": [
    "R3.count('a')"
   ]
  },
  {
   "cell_type": "code",
   "execution_count": 106,
   "id": "2b9ca311",
   "metadata": {},
   "outputs": [
    {
     "data": {
      "text/plain": [
       "1"
      ]
     },
     "execution_count": 106,
     "metadata": {},
     "output_type": "execute_result"
    }
   ],
   "source": [
    "R3.count('Ra')"
   ]
  },
  {
   "cell_type": "code",
   "execution_count": 107,
   "id": "2acfd59b",
   "metadata": {},
   "outputs": [
    {
     "data": {
      "text/plain": [
       "['R', 'j', 'sekh', 'r']"
      ]
     },
     "execution_count": 107,
     "metadata": {},
     "output_type": "execute_result"
    }
   ],
   "source": [
    "R3.split('a')"
   ]
  },
  {
   "cell_type": "code",
   "execution_count": 108,
   "id": "0304df0c",
   "metadata": {},
   "outputs": [
    {
     "data": {
      "text/plain": [
       "list"
      ]
     },
     "execution_count": 108,
     "metadata": {},
     "output_type": "execute_result"
    }
   ],
   "source": [
    "type(R3.split('a'))"
   ]
  },
  {
   "cell_type": "code",
   "execution_count": 109,
   "id": "0e39b75c",
   "metadata": {},
   "outputs": [],
   "source": [
    "R4 = \"The principal divisions of the corporation are Industry, Energy, Healthcare (Siemens Healthineers), and Infrastructure & Cities, which represent the main activities of the corporation.[7][8][9] The corporation is a prominent maker of medical diagnostics equipment and its medical health-care division, which generates about 12 percent of the corporation's total sales, is its second-most profitable unit, after the industrial automation division. The corporation is a component of the Euro Stoxx 50 stock market index.[10] Siemens and its subsidiaries employ approximately 303,000 people worldwide and reported global revenue of around €62 billion in 2021[2] according to its earnings release.\""
   ]
  },
  {
   "cell_type": "code",
   "execution_count": 110,
   "id": "86327386",
   "metadata": {},
   "outputs": [
    {
     "data": {
      "text/plain": [
       "['The',\n",
       " 'principal',\n",
       " 'divisions',\n",
       " 'of',\n",
       " 'the',\n",
       " 'corporation',\n",
       " 'are',\n",
       " 'Industry,',\n",
       " 'Energy,',\n",
       " 'Healthcare',\n",
       " '(Siemens',\n",
       " 'Healthineers),',\n",
       " 'and',\n",
       " 'Infrastructure',\n",
       " '&',\n",
       " 'Cities,',\n",
       " 'which',\n",
       " 'represent',\n",
       " 'the',\n",
       " 'main',\n",
       " 'activities',\n",
       " 'of',\n",
       " 'the',\n",
       " 'corporation.[7][8][9]',\n",
       " 'The',\n",
       " 'corporation',\n",
       " 'is',\n",
       " 'a',\n",
       " 'prominent',\n",
       " 'maker',\n",
       " 'of',\n",
       " 'medical',\n",
       " 'diagnostics',\n",
       " 'equipment',\n",
       " 'and',\n",
       " 'its',\n",
       " 'medical',\n",
       " 'health-care',\n",
       " 'division,',\n",
       " 'which',\n",
       " 'generates',\n",
       " 'about',\n",
       " '12',\n",
       " 'percent',\n",
       " 'of',\n",
       " 'the',\n",
       " \"corporation's\",\n",
       " 'total',\n",
       " 'sales,',\n",
       " 'is',\n",
       " 'its',\n",
       " 'second-most',\n",
       " 'profitable',\n",
       " 'unit,',\n",
       " 'after',\n",
       " 'the',\n",
       " 'industrial',\n",
       " 'automation',\n",
       " 'division.',\n",
       " 'The',\n",
       " 'corporation',\n",
       " 'is',\n",
       " 'a',\n",
       " 'component',\n",
       " 'of',\n",
       " 'the',\n",
       " 'Euro',\n",
       " 'Stoxx',\n",
       " '50',\n",
       " 'stock',\n",
       " 'market',\n",
       " 'index.[10]',\n",
       " 'Siemens',\n",
       " 'and',\n",
       " 'its',\n",
       " 'subsidiaries',\n",
       " 'employ',\n",
       " 'approximately',\n",
       " '303,000',\n",
       " 'people',\n",
       " 'worldwide',\n",
       " 'and',\n",
       " 'reported',\n",
       " 'global',\n",
       " 'revenue',\n",
       " 'of',\n",
       " 'around',\n",
       " '€62',\n",
       " 'billion',\n",
       " 'in',\n",
       " '2021[2]',\n",
       " 'according',\n",
       " 'to',\n",
       " 'its',\n",
       " 'earnings',\n",
       " 'release.']"
      ]
     },
     "execution_count": 110,
     "metadata": {},
     "output_type": "execute_result"
    }
   ],
   "source": [
    "R4.split(' ')"
   ]
  },
  {
   "cell_type": "code",
   "execution_count": 112,
   "id": "d00161f4",
   "metadata": {},
   "outputs": [
    {
     "data": {
      "text/plain": [
       "96"
      ]
     },
     "execution_count": 112,
     "metadata": {},
     "output_type": "execute_result"
    }
   ],
   "source": [
    "len(R4.split(' '))"
   ]
  },
  {
   "cell_type": "code",
   "execution_count": 114,
   "id": "6e262b8e",
   "metadata": {},
   "outputs": [
    {
     "data": {
      "text/plain": [
       "2"
      ]
     },
     "execution_count": 114,
     "metadata": {},
     "output_type": "execute_result"
    }
   ],
   "source": [
    "R4.count('Siemens')"
   ]
  },
  {
   "cell_type": "code",
   "execution_count": 115,
   "id": "80081a24",
   "metadata": {},
   "outputs": [],
   "source": [
    "R5 = \"\"\"Siemens & Halske was founded by Werner von Siemens and Johann Georg Halske on 1 October 1847. Based on the telegraph, their invention used a needle to point to the sequence of letters, instead of using Morse code. The company, then called Telegraphen-Bauanstalt von Siemens & Halske, opened its first workshop on 12 October.[11]\n",
    "\n",
    "In 1848, the company built the first long-distance telegraph line in Europe; 500 km from Berlin to Frankfurt am Main. In 1850, the founder's younger brother, Carl Wilhelm Siemens, later Sir William Siemens, started to represent the company in London. The London agency became a branch office in 1858. In the 1850s, the company was involved in building long-distance telegraph networks in Russia. In 1855, a company branch headed by another brother, Carl Heinrich von Siemens, opened in St Petersburg, Russia. In 1867, Siemens completed the monumental Indo-European telegraph line stretching over 11,000 km from London to Calcutta.[12]\n",
    "\n",
    "\n",
    "First electric locomotive, built in 1879 by company founder Werner von Siemens.\n",
    "In 1867, Werner von Siemens described a dynamo without permanent magnets.[13] A similar system was also independently invented by Ányos Jedlik and Charles Wheatstone, but Siemens became the first company to build such devices. In 1881, a Siemens AC Alternator driven by a watermill was used to power the world's first electric street lighting in the town of Godalming, United Kingdom. The company continued to grow and diversified into electric trains and light bulbs. In 1885, Siemens sold one of its generators to George Westinghouse, thereby enabling Westinghouse to begin experimenting with AC networks in Pittsburgh, Pennsylvania.\n",
    "\n",
    "In 1887, Siemens opened its first office in Japan.[14] In 1890, the founder retired and left the running of the company to his brother Carl and sons Arnold and Wilhelm. In 1892, Siemens were contracted to construct the Hobart electric tramway in Tasmania, Australia as they increased their markets. The system opened in 1893 and became the first complete electric tram network in\"\"\""
   ]
  },
  {
   "cell_type": "code",
   "execution_count": 116,
   "id": "d5f9dac3",
   "metadata": {},
   "outputs": [
    {
     "data": {
      "text/plain": [
       "\"Siemens & Halske was founded by Werner von Siemens and Johann Georg Halske on 1 October 1847. Based on the telegraph, their invention used a needle to point to the sequence of letters, instead of using Morse code. The company, then called Telegraphen-Bauanstalt von Siemens & Halske, opened its first workshop on 12 October.[11]\\n\\nIn 1848, the company built the first long-distance telegraph line in Europe; 500 km from Berlin to Frankfurt am Main. In 1850, the founder's younger brother, Carl Wilhelm Siemens, later Sir William Siemens, started to represent the company in London. The London agency became a branch office in 1858. In the 1850s, the company was involved in building long-distance telegraph networks in Russia. In 1855, a company branch headed by another brother, Carl Heinrich von Siemens, opened in St Petersburg, Russia. In 1867, Siemens completed the monumental Indo-European telegraph line stretching over 11,000 km from London to Calcutta.[12]\\n\\n\\nFirst electric locomotive, built in 1879 by company founder Werner von Siemens.\\nIn 1867, Werner von Siemens described a dynamo without permanent magnets.[13] A similar system was also independently invented by Ányos Jedlik and Charles Wheatstone, but Siemens became the first company to build such devices. In 1881, a Siemens AC Alternator driven by a watermill was used to power the world's first electric street lighting in the town of Godalming, United Kingdom. The company continued to grow and diversified into electric trains and light bulbs. In 1885, Siemens sold one of its generators to George Westinghouse, thereby enabling Westinghouse to begin experimenting with AC networks in Pittsburgh, Pennsylvania.\\n\\nIn 1887, Siemens opened its first office in Japan.[14] In 1890, the founder retired and left the running of the company to his brother Carl and sons Arnold and Wilhelm. In 1892, Siemens were contracted to construct the Hobart electric tramway in Tasmania, Australia as they increased their markets. The system opened in 1893 and became the first complete electric tram network in\""
      ]
     },
     "execution_count": 116,
     "metadata": {},
     "output_type": "execute_result"
    }
   ],
   "source": [
    "R5"
   ]
  },
  {
   "cell_type": "code",
   "execution_count": 117,
   "id": "9ca1db5f",
   "metadata": {
    "scrolled": true
   },
   "outputs": [
    {
     "data": {
      "text/plain": [
       "['Siemens',\n",
       " '&',\n",
       " 'Halske',\n",
       " 'was',\n",
       " 'founded',\n",
       " 'by',\n",
       " 'Werner',\n",
       " 'von',\n",
       " 'Siemens',\n",
       " 'and',\n",
       " 'Johann',\n",
       " 'Georg',\n",
       " 'Halske',\n",
       " 'on',\n",
       " '1',\n",
       " 'October',\n",
       " '1847.',\n",
       " 'Based',\n",
       " 'on',\n",
       " 'the',\n",
       " 'telegraph,',\n",
       " 'their',\n",
       " 'invention',\n",
       " 'used',\n",
       " 'a',\n",
       " 'needle',\n",
       " 'to',\n",
       " 'point',\n",
       " 'to',\n",
       " 'the',\n",
       " 'sequence',\n",
       " 'of',\n",
       " 'letters,',\n",
       " 'instead',\n",
       " 'of',\n",
       " 'using',\n",
       " 'Morse',\n",
       " 'code.',\n",
       " 'The',\n",
       " 'company,',\n",
       " 'then',\n",
       " 'called',\n",
       " 'Telegraphen-Bauanstalt',\n",
       " 'von',\n",
       " 'Siemens',\n",
       " '&',\n",
       " 'Halske,',\n",
       " 'opened',\n",
       " 'its',\n",
       " 'first',\n",
       " 'workshop',\n",
       " 'on',\n",
       " '12',\n",
       " 'October.[11]\\n\\nIn',\n",
       " '1848,',\n",
       " 'the',\n",
       " 'company',\n",
       " 'built',\n",
       " 'the',\n",
       " 'first',\n",
       " 'long-distance',\n",
       " 'telegraph',\n",
       " 'line',\n",
       " 'in',\n",
       " 'Europe;',\n",
       " '500',\n",
       " 'km',\n",
       " 'from',\n",
       " 'Berlin',\n",
       " 'to',\n",
       " 'Frankfurt',\n",
       " 'am',\n",
       " 'Main.',\n",
       " 'In',\n",
       " '1850,',\n",
       " 'the',\n",
       " \"founder's\",\n",
       " 'younger',\n",
       " 'brother,',\n",
       " 'Carl',\n",
       " 'Wilhelm',\n",
       " 'Siemens,',\n",
       " 'later',\n",
       " 'Sir',\n",
       " 'William',\n",
       " 'Siemens,',\n",
       " 'started',\n",
       " 'to',\n",
       " 'represent',\n",
       " 'the',\n",
       " 'company',\n",
       " 'in',\n",
       " 'London.',\n",
       " 'The',\n",
       " 'London',\n",
       " 'agency',\n",
       " 'became',\n",
       " 'a',\n",
       " 'branch',\n",
       " 'office',\n",
       " 'in',\n",
       " '1858.',\n",
       " 'In',\n",
       " 'the',\n",
       " '1850s,',\n",
       " 'the',\n",
       " 'company',\n",
       " 'was',\n",
       " 'involved',\n",
       " 'in',\n",
       " 'building',\n",
       " 'long-distance',\n",
       " 'telegraph',\n",
       " 'networks',\n",
       " 'in',\n",
       " 'Russia.',\n",
       " 'In',\n",
       " '1855,',\n",
       " 'a',\n",
       " 'company',\n",
       " 'branch',\n",
       " 'headed',\n",
       " 'by',\n",
       " 'another',\n",
       " 'brother,',\n",
       " 'Carl',\n",
       " 'Heinrich',\n",
       " 'von',\n",
       " 'Siemens,',\n",
       " 'opened',\n",
       " 'in',\n",
       " 'St',\n",
       " 'Petersburg,',\n",
       " 'Russia.',\n",
       " 'In',\n",
       " '1867,',\n",
       " 'Siemens',\n",
       " 'completed',\n",
       " 'the',\n",
       " 'monumental',\n",
       " 'Indo-European',\n",
       " 'telegraph',\n",
       " 'line',\n",
       " 'stretching',\n",
       " 'over',\n",
       " '11,000',\n",
       " 'km',\n",
       " 'from',\n",
       " 'London',\n",
       " 'to',\n",
       " 'Calcutta.[12]\\n\\n\\nFirst',\n",
       " 'electric',\n",
       " 'locomotive,',\n",
       " 'built',\n",
       " 'in',\n",
       " '1879',\n",
       " 'by',\n",
       " 'company',\n",
       " 'founder',\n",
       " 'Werner',\n",
       " 'von',\n",
       " 'Siemens.\\nIn',\n",
       " '1867,',\n",
       " 'Werner',\n",
       " 'von',\n",
       " 'Siemens',\n",
       " 'described',\n",
       " 'a',\n",
       " 'dynamo',\n",
       " 'without',\n",
       " 'permanent',\n",
       " 'magnets.[13]',\n",
       " 'A',\n",
       " 'similar',\n",
       " 'system',\n",
       " 'was',\n",
       " 'also',\n",
       " 'independently',\n",
       " 'invented',\n",
       " 'by',\n",
       " 'Ányos',\n",
       " 'Jedlik',\n",
       " 'and',\n",
       " 'Charles',\n",
       " 'Wheatstone,',\n",
       " 'but',\n",
       " 'Siemens',\n",
       " 'became',\n",
       " 'the',\n",
       " 'first',\n",
       " 'company',\n",
       " 'to',\n",
       " 'build',\n",
       " 'such',\n",
       " 'devices.',\n",
       " 'In',\n",
       " '1881,',\n",
       " 'a',\n",
       " 'Siemens',\n",
       " 'AC',\n",
       " 'Alternator',\n",
       " 'driven',\n",
       " 'by',\n",
       " 'a',\n",
       " 'watermill',\n",
       " 'was',\n",
       " 'used',\n",
       " 'to',\n",
       " 'power',\n",
       " 'the',\n",
       " \"world's\",\n",
       " 'first',\n",
       " 'electric',\n",
       " 'street',\n",
       " 'lighting',\n",
       " 'in',\n",
       " 'the',\n",
       " 'town',\n",
       " 'of',\n",
       " 'Godalming,',\n",
       " 'United',\n",
       " 'Kingdom.',\n",
       " 'The',\n",
       " 'company',\n",
       " 'continued',\n",
       " 'to',\n",
       " 'grow',\n",
       " 'and',\n",
       " 'diversified',\n",
       " 'into',\n",
       " 'electric',\n",
       " 'trains',\n",
       " 'and',\n",
       " 'light',\n",
       " 'bulbs.',\n",
       " 'In',\n",
       " '1885,',\n",
       " 'Siemens',\n",
       " 'sold',\n",
       " 'one',\n",
       " 'of',\n",
       " 'its',\n",
       " 'generators',\n",
       " 'to',\n",
       " 'George',\n",
       " 'Westinghouse,',\n",
       " 'thereby',\n",
       " 'enabling',\n",
       " 'Westinghouse',\n",
       " 'to',\n",
       " 'begin',\n",
       " 'experimenting',\n",
       " 'with',\n",
       " 'AC',\n",
       " 'networks',\n",
       " 'in',\n",
       " 'Pittsburgh,',\n",
       " 'Pennsylvania.\\n\\nIn',\n",
       " '1887,',\n",
       " 'Siemens',\n",
       " 'opened',\n",
       " 'its',\n",
       " 'first',\n",
       " 'office',\n",
       " 'in',\n",
       " 'Japan.[14]',\n",
       " 'In',\n",
       " '1890,',\n",
       " 'the',\n",
       " 'founder',\n",
       " 'retired',\n",
       " 'and',\n",
       " 'left',\n",
       " 'the',\n",
       " 'running',\n",
       " 'of',\n",
       " 'the',\n",
       " 'company',\n",
       " 'to',\n",
       " 'his',\n",
       " 'brother',\n",
       " 'Carl',\n",
       " 'and',\n",
       " 'sons',\n",
       " 'Arnold',\n",
       " 'and',\n",
       " 'Wilhelm.',\n",
       " 'In',\n",
       " '1892,',\n",
       " 'Siemens',\n",
       " 'were',\n",
       " 'contracted',\n",
       " 'to',\n",
       " 'construct',\n",
       " 'the',\n",
       " 'Hobart',\n",
       " 'electric',\n",
       " 'tramway',\n",
       " 'in',\n",
       " 'Tasmania,',\n",
       " 'Australia',\n",
       " 'as',\n",
       " 'they',\n",
       " 'increased',\n",
       " 'their',\n",
       " 'markets.',\n",
       " 'The',\n",
       " 'system',\n",
       " 'opened',\n",
       " 'in',\n",
       " '1893',\n",
       " 'and',\n",
       " 'became',\n",
       " 'the',\n",
       " 'first',\n",
       " 'complete',\n",
       " 'electric',\n",
       " 'tram',\n",
       " 'network',\n",
       " 'in']"
      ]
     },
     "execution_count": 117,
     "metadata": {},
     "output_type": "execute_result"
    }
   ],
   "source": [
    "R5.split(' ')"
   ]
  },
  {
   "cell_type": "code",
   "execution_count": 118,
   "id": "4fc01376",
   "metadata": {},
   "outputs": [
    {
     "data": {
      "text/plain": [
       "320"
      ]
     },
     "execution_count": 118,
     "metadata": {},
     "output_type": "execute_result"
    }
   ],
   "source": [
    "len(R5.split(' '))"
   ]
  },
  {
   "cell_type": "code",
   "execution_count": 122,
   "id": "56d5df3b",
   "metadata": {},
   "outputs": [
    {
     "data": {
      "text/plain": [
       "\"Siemens & halske was founded by werner von siemens and johann georg halske on 1 october 1847. based on the telegraph, their invention used a needle to point to the sequence of letters, instead of using morse code. the company, then called telegraphen-bauanstalt von siemens & halske, opened its first workshop on 12 october.[11]\\n\\nin 1848, the company built the first long-distance telegraph line in europe; 500 km from berlin to frankfurt am main. in 1850, the founder's younger brother, carl wilhelm siemens, later sir william siemens, started to represent the company in london. the london agency became a branch office in 1858. in the 1850s, the company was involved in building long-distance telegraph networks in russia. in 1855, a company branch headed by another brother, carl heinrich von siemens, opened in st petersburg, russia. in 1867, siemens completed the monumental indo-european telegraph line stretching over 11,000 km from london to calcutta.[12]\\n\\n\\nfirst electric locomotive, built in 1879 by company founder werner von siemens.\\nin 1867, werner von siemens described a dynamo without permanent magnets.[13] a similar system was also independently invented by ányos jedlik and charles wheatstone, but siemens became the first company to build such devices. in 1881, a siemens ac alternator driven by a watermill was used to power the world's first electric street lighting in the town of godalming, united kingdom. the company continued to grow and diversified into electric trains and light bulbs. in 1885, siemens sold one of its generators to george westinghouse, thereby enabling westinghouse to begin experimenting with ac networks in pittsburgh, pennsylvania.\\n\\nin 1887, siemens opened its first office in japan.[14] in 1890, the founder retired and left the running of the company to his brother carl and sons arnold and wilhelm. in 1892, siemens were contracted to construct the hobart electric tramway in tasmania, australia as they increased their markets. the system opened in 1893 and became the first complete electric tram network in\""
      ]
     },
     "execution_count": 122,
     "metadata": {},
     "output_type": "execute_result"
    }
   ],
   "source": [
    "R5.capitalize()"
   ]
  },
  {
   "cell_type": "code",
   "execution_count": 120,
   "id": "a3f8fef4",
   "metadata": {
    "scrolled": true
   },
   "outputs": [
    {
     "data": {
      "text/plain": [
       "\"Siemens & Halske was founded by Werner von Siemens and Johann Georg Halske on 1 October 1847. Based on the telegraph, their invention used a needle to point to the sequence of letters, instead of using Morse code. The company, then called Telegraphen-Bauanstalt von Siemens & Halske, opened its first workshop on 12 October.[11]\\n\\nIn 1848, the company built the first long-distance telegraph line in Europe; 500 km from Berlin to Frankfurt am Main. In 1850, the founder's younger brother, Carl Wilhelm Siemens, later Sir William Siemens, started to represent the company in London. The London agency became a branch office in 1858. In the 1850s, the company was involved in building long-distance telegraph networks in Russia. In 1855, a company branch headed by another brother, Carl Heinrich von Siemens, opened in St Petersburg, Russia. In 1867, Siemens completed the monumental Indo-European telegraph line stretching over 11,000 km from London to Calcutta.[12]\\n\\n\\nFirst electric locomotive, built in 1879 by company founder Werner von Siemens.\\nIn 1867, Werner von Siemens described a dynamo without permanent magnets.[13] A similar system was also independently invented by Ányos Jedlik and Charles Wheatstone, but Siemens became the first company to build such devices. In 1881, a Siemens AC Alternator driven by a watermill was used to power the world's first electric street lighting in the town of Godalming, United Kingdom. The company continued to grow and diversified into electric trains and light bulbs. In 1885, Siemens sold one of its generators to George Westinghouse, thereby enabling Westinghouse to begin experimenting with AC networks in Pittsburgh, Pennsylvania.\\n\\nIn 1887, Siemens opened its first office in Japan.[14] In 1890, the founder retired and left the running of the company to his brother Carl and sons Arnold and Wilhelm. In 1892, Siemens were contracted to construct the Hobart electric tramway in Tasmania, Australia as they increased their markets. The system opened in 1893 and became the first complete electric tram network in\""
      ]
     },
     "execution_count": 120,
     "metadata": {},
     "output_type": "execute_result"
    }
   ],
   "source": [
    "R5"
   ]
  },
  {
   "cell_type": "code",
   "execution_count": 123,
   "id": "82104432",
   "metadata": {},
   "outputs": [
    {
     "data": {
      "text/plain": [
       "\"SIEMENS & HALSKE WAS FOUNDED BY WERNER VON SIEMENS AND JOHANN GEORG HALSKE ON 1 OCTOBER 1847. BASED ON THE TELEGRAPH, THEIR INVENTION USED A NEEDLE TO POINT TO THE SEQUENCE OF LETTERS, INSTEAD OF USING MORSE CODE. THE COMPANY, THEN CALLED TELEGRAPHEN-BAUANSTALT VON SIEMENS & HALSKE, OPENED ITS FIRST WORKSHOP ON 12 OCTOBER.[11]\\n\\nIN 1848, THE COMPANY BUILT THE FIRST LONG-DISTANCE TELEGRAPH LINE IN EUROPE; 500 KM FROM BERLIN TO FRANKFURT AM MAIN. IN 1850, THE FOUNDER'S YOUNGER BROTHER, CARL WILHELM SIEMENS, LATER SIR WILLIAM SIEMENS, STARTED TO REPRESENT THE COMPANY IN LONDON. THE LONDON AGENCY BECAME A BRANCH OFFICE IN 1858. IN THE 1850S, THE COMPANY WAS INVOLVED IN BUILDING LONG-DISTANCE TELEGRAPH NETWORKS IN RUSSIA. IN 1855, A COMPANY BRANCH HEADED BY ANOTHER BROTHER, CARL HEINRICH VON SIEMENS, OPENED IN ST PETERSBURG, RUSSIA. IN 1867, SIEMENS COMPLETED THE MONUMENTAL INDO-EUROPEAN TELEGRAPH LINE STRETCHING OVER 11,000 KM FROM LONDON TO CALCUTTA.[12]\\n\\n\\nFIRST ELECTRIC LOCOMOTIVE, BUILT IN 1879 BY COMPANY FOUNDER WERNER VON SIEMENS.\\nIN 1867, WERNER VON SIEMENS DESCRIBED A DYNAMO WITHOUT PERMANENT MAGNETS.[13] A SIMILAR SYSTEM WAS ALSO INDEPENDENTLY INVENTED BY ÁNYOS JEDLIK AND CHARLES WHEATSTONE, BUT SIEMENS BECAME THE FIRST COMPANY TO BUILD SUCH DEVICES. IN 1881, A SIEMENS AC ALTERNATOR DRIVEN BY A WATERMILL WAS USED TO POWER THE WORLD'S FIRST ELECTRIC STREET LIGHTING IN THE TOWN OF GODALMING, UNITED KINGDOM. THE COMPANY CONTINUED TO GROW AND DIVERSIFIED INTO ELECTRIC TRAINS AND LIGHT BULBS. IN 1885, SIEMENS SOLD ONE OF ITS GENERATORS TO GEORGE WESTINGHOUSE, THEREBY ENABLING WESTINGHOUSE TO BEGIN EXPERIMENTING WITH AC NETWORKS IN PITTSBURGH, PENNSYLVANIA.\\n\\nIN 1887, SIEMENS OPENED ITS FIRST OFFICE IN JAPAN.[14] IN 1890, THE FOUNDER RETIRED AND LEFT THE RUNNING OF THE COMPANY TO HIS BROTHER CARL AND SONS ARNOLD AND WILHELM. IN 1892, SIEMENS WERE CONTRACTED TO CONSTRUCT THE HOBART ELECTRIC TRAMWAY IN TASMANIA, AUSTRALIA AS THEY INCREASED THEIR MARKETS. THE SYSTEM OPENED IN 1893 AND BECAME THE FIRST COMPLETE ELECTRIC TRAM NETWORK IN\""
      ]
     },
     "execution_count": 123,
     "metadata": {},
     "output_type": "execute_result"
    }
   ],
   "source": [
    "R5.upper()"
   ]
  },
  {
   "cell_type": "code",
   "execution_count": 125,
   "id": "90d2493e",
   "metadata": {},
   "outputs": [
    {
     "data": {
      "text/plain": [
       "\"siemens & halske was founded by werner von siemens and johann georg halske on 1 october 1847. based on the telegraph, their invention used a needle to point to the sequence of letters, instead of using morse code. the company, then called telegraphen-bauanstalt von siemens & halske, opened its first workshop on 12 october.[11]\\n\\nin 1848, the company built the first long-distance telegraph line in europe; 500 km from berlin to frankfurt am main. in 1850, the founder's younger brother, carl wilhelm siemens, later sir william siemens, started to represent the company in london. the london agency became a branch office in 1858. in the 1850s, the company was involved in building long-distance telegraph networks in russia. in 1855, a company branch headed by another brother, carl heinrich von siemens, opened in st petersburg, russia. in 1867, siemens completed the monumental indo-european telegraph line stretching over 11,000 km from london to calcutta.[12]\\n\\n\\nfirst electric locomotive, built in 1879 by company founder werner von siemens.\\nin 1867, werner von siemens described a dynamo without permanent magnets.[13] a similar system was also independently invented by ányos jedlik and charles wheatstone, but siemens became the first company to build such devices. in 1881, a siemens ac alternator driven by a watermill was used to power the world's first electric street lighting in the town of godalming, united kingdom. the company continued to grow and diversified into electric trains and light bulbs. in 1885, siemens sold one of its generators to george westinghouse, thereby enabling westinghouse to begin experimenting with ac networks in pittsburgh, pennsylvania.\\n\\nin 1887, siemens opened its first office in japan.[14] in 1890, the founder retired and left the running of the company to his brother carl and sons arnold and wilhelm. in 1892, siemens were contracted to construct the hobart electric tramway in tasmania, australia as they increased their markets. the system opened in 1893 and became the first complete electric tram network in\""
      ]
     },
     "execution_count": 125,
     "metadata": {},
     "output_type": "execute_result"
    }
   ],
   "source": [
    "R5.lower()"
   ]
  },
  {
   "cell_type": "code",
   "execution_count": 126,
   "id": "73f00fe4",
   "metadata": {},
   "outputs": [
    {
     "data": {
      "text/plain": [
       "\"Siemens & Halske was founded by Werner von Siemens and Johann Georg Halske on 1 October 1847. Based on the telegraph, their invention used a needle to point to the sequence of letters, instead of using Morse code. The company, then called Telegraphen-Bauanstalt von Siemens & Halske, opened its first workshop on 12 October.[11]\\n\\nIn 1848, the company built the first long-distance telegraph line in Europe; 500 km from Berlin to Frankfurt am Main. In 1850, the founder's younger brother, Carl Wilhelm Siemens, later Sir William Siemens, started to represent the company in London. The London agency became a branch office in 1858. In the 1850s, the company was involved in building long-distance telegraph networks in Russia. In 1855, a company branch headed by another brother, Carl Heinrich von Siemens, opened in St Petersburg, Russia. In 1867, Siemens completed the monumental Indo-European telegraph line stretching over 11,000 km from London to Calcutta.[12]\\n\\n\\nFirst electric locomotive, built in 1879 by company founder Werner von Siemens.\\nIn 1867, Werner von Siemens described a dynamo without permanent magnets.[13] A similar system was also independently invented by Ányos Jedlik and Charles Wheatstone, but Siemens became the first company to build such devices. In 1881, a Siemens AC Alternator driven by a watermill was used to power the world's first electric street lighting in the town of Godalming, United Kingdom. The company continued to grow and diversified into electric trains and light bulbs. In 1885, Siemens sold one of its generators to George Westinghouse, thereby enabling Westinghouse to begin experimenting with AC networks in Pittsburgh, Pennsylvania.\\n\\nIn 1887, Siemens opened its first office in Japan.[14] In 1890, the founder retired and left the running of the company to his brother Carl and sons Arnold and Wilhelm. In 1892, Siemens were contracted to construct the Hobart electric tramway in Tasmania, Australia as they increased their markets. The system opened in 1893 and became the first complete electric tram network in\""
      ]
     },
     "execution_count": 126,
     "metadata": {},
     "output_type": "execute_result"
    }
   ],
   "source": [
    "R5"
   ]
  },
  {
   "cell_type": "code",
   "execution_count": 127,
   "id": "566ec5bc",
   "metadata": {},
   "outputs": [],
   "source": [
    "R5 = R5.upper()"
   ]
  },
  {
   "cell_type": "code",
   "execution_count": 128,
   "id": "cef802ae",
   "metadata": {},
   "outputs": [
    {
     "data": {
      "text/plain": [
       "\"SIEMENS & HALSKE WAS FOUNDED BY WERNER VON SIEMENS AND JOHANN GEORG HALSKE ON 1 OCTOBER 1847. BASED ON THE TELEGRAPH, THEIR INVENTION USED A NEEDLE TO POINT TO THE SEQUENCE OF LETTERS, INSTEAD OF USING MORSE CODE. THE COMPANY, THEN CALLED TELEGRAPHEN-BAUANSTALT VON SIEMENS & HALSKE, OPENED ITS FIRST WORKSHOP ON 12 OCTOBER.[11]\\n\\nIN 1848, THE COMPANY BUILT THE FIRST LONG-DISTANCE TELEGRAPH LINE IN EUROPE; 500 KM FROM BERLIN TO FRANKFURT AM MAIN. IN 1850, THE FOUNDER'S YOUNGER BROTHER, CARL WILHELM SIEMENS, LATER SIR WILLIAM SIEMENS, STARTED TO REPRESENT THE COMPANY IN LONDON. THE LONDON AGENCY BECAME A BRANCH OFFICE IN 1858. IN THE 1850S, THE COMPANY WAS INVOLVED IN BUILDING LONG-DISTANCE TELEGRAPH NETWORKS IN RUSSIA. IN 1855, A COMPANY BRANCH HEADED BY ANOTHER BROTHER, CARL HEINRICH VON SIEMENS, OPENED IN ST PETERSBURG, RUSSIA. IN 1867, SIEMENS COMPLETED THE MONUMENTAL INDO-EUROPEAN TELEGRAPH LINE STRETCHING OVER 11,000 KM FROM LONDON TO CALCUTTA.[12]\\n\\n\\nFIRST ELECTRIC LOCOMOTIVE, BUILT IN 1879 BY COMPANY FOUNDER WERNER VON SIEMENS.\\nIN 1867, WERNER VON SIEMENS DESCRIBED A DYNAMO WITHOUT PERMANENT MAGNETS.[13] A SIMILAR SYSTEM WAS ALSO INDEPENDENTLY INVENTED BY ÁNYOS JEDLIK AND CHARLES WHEATSTONE, BUT SIEMENS BECAME THE FIRST COMPANY TO BUILD SUCH DEVICES. IN 1881, A SIEMENS AC ALTERNATOR DRIVEN BY A WATERMILL WAS USED TO POWER THE WORLD'S FIRST ELECTRIC STREET LIGHTING IN THE TOWN OF GODALMING, UNITED KINGDOM. THE COMPANY CONTINUED TO GROW AND DIVERSIFIED INTO ELECTRIC TRAINS AND LIGHT BULBS. IN 1885, SIEMENS SOLD ONE OF ITS GENERATORS TO GEORGE WESTINGHOUSE, THEREBY ENABLING WESTINGHOUSE TO BEGIN EXPERIMENTING WITH AC NETWORKS IN PITTSBURGH, PENNSYLVANIA.\\n\\nIN 1887, SIEMENS OPENED ITS FIRST OFFICE IN JAPAN.[14] IN 1890, THE FOUNDER RETIRED AND LEFT THE RUNNING OF THE COMPANY TO HIS BROTHER CARL AND SONS ARNOLD AND WILHELM. IN 1892, SIEMENS WERE CONTRACTED TO CONSTRUCT THE HOBART ELECTRIC TRAMWAY IN TASMANIA, AUSTRALIA AS THEY INCREASED THEIR MARKETS. THE SYSTEM OPENED IN 1893 AND BECAME THE FIRST COMPLETE ELECTRIC TRAM NETWORK IN\""
      ]
     },
     "execution_count": 128,
     "metadata": {},
     "output_type": "execute_result"
    }
   ],
   "source": [
    "R5"
   ]
  },
  {
   "cell_type": "code",
   "execution_count": 130,
   "id": "25e031d1",
   "metadata": {},
   "outputs": [],
   "source": [
    "    R5 = R5.lower()"
   ]
  },
  {
   "cell_type": "code",
   "execution_count": 131,
   "id": "47bc4973",
   "metadata": {},
   "outputs": [
    {
     "data": {
      "text/plain": [
       "\"siemens & halske was founded by werner von siemens and johann georg halske on 1 october 1847. based on the telegraph, their invention used a needle to point to the sequence of letters, instead of using morse code. the company, then called telegraphen-bauanstalt von siemens & halske, opened its first workshop on 12 october.[11]\\n\\nin 1848, the company built the first long-distance telegraph line in europe; 500 km from berlin to frankfurt am main. in 1850, the founder's younger brother, carl wilhelm siemens, later sir william siemens, started to represent the company in london. the london agency became a branch office in 1858. in the 1850s, the company was involved in building long-distance telegraph networks in russia. in 1855, a company branch headed by another brother, carl heinrich von siemens, opened in st petersburg, russia. in 1867, siemens completed the monumental indo-european telegraph line stretching over 11,000 km from london to calcutta.[12]\\n\\n\\nfirst electric locomotive, built in 1879 by company founder werner von siemens.\\nin 1867, werner von siemens described a dynamo without permanent magnets.[13] a similar system was also independently invented by ányos jedlik and charles wheatstone, but siemens became the first company to build such devices. in 1881, a siemens ac alternator driven by a watermill was used to power the world's first electric street lighting in the town of godalming, united kingdom. the company continued to grow and diversified into electric trains and light bulbs. in 1885, siemens sold one of its generators to george westinghouse, thereby enabling westinghouse to begin experimenting with ac networks in pittsburgh, pennsylvania.\\n\\nin 1887, siemens opened its first office in japan.[14] in 1890, the founder retired and left the running of the company to his brother carl and sons arnold and wilhelm. in 1892, siemens were contracted to construct the hobart electric tramway in tasmania, australia as they increased their markets. the system opened in 1893 and became the first complete electric tram network in\""
      ]
     },
     "execution_count": 131,
     "metadata": {},
     "output_type": "execute_result"
    }
   ],
   "source": [
    "R5"
   ]
  },
  {
   "cell_type": "code",
   "execution_count": 132,
   "id": "ce29fd64",
   "metadata": {},
   "outputs": [
    {
     "data": {
      "text/plain": [
       "\"The principal divisions of the corporation are Industry, Energy, Healthcare (Siemens Healthineers), and Infrastructure & Cities, which represent the main activities of the corporation.[7][8][9] The corporation is a prominent maker of medical diagnostics equipment and its medical health-care division, which generates about 12 percent of the corporation's total sales, is its second-most profitable unit, after the industrial automation division. The corporation is a component of the Euro Stoxx 50 stock market index.[10] Siemens and its subsidiaries employ approximately 303,000 people worldwide and reported global revenue of around €62 billion in 2021[2] according to its earnings release.\""
      ]
     },
     "execution_count": 132,
     "metadata": {},
     "output_type": "execute_result"
    }
   ],
   "source": [
    "R4"
   ]
  },
  {
   "cell_type": "code",
   "execution_count": 133,
   "id": "91a5af78",
   "metadata": {},
   "outputs": [
    {
     "data": {
      "text/plain": [
       "'Rajasekhar'"
      ]
     },
     "execution_count": 133,
     "metadata": {},
     "output_type": "execute_result"
    }
   ],
   "source": [
    "R3"
   ]
  },
  {
   "cell_type": "code",
   "execution_count": 137,
   "id": "cd9cd78b",
   "metadata": {},
   "outputs": [],
   "source": [
    "R6 = 'learning somthing'"
   ]
  },
  {
   "cell_type": "code",
   "execution_count": 138,
   "id": "d2cdffa0",
   "metadata": {},
   "outputs": [
    {
     "data": {
      "text/plain": [
       "'Learning Somthing'"
      ]
     },
     "execution_count": 138,
     "metadata": {},
     "output_type": "execute_result"
    }
   ],
   "source": [
    "R6.title()"
   ]
  },
  {
   "cell_type": "code",
   "execution_count": 139,
   "id": "c24f7bb3",
   "metadata": {},
   "outputs": [
    {
     "ename": "AttributeError",
     "evalue": "'str' object has no attribute 'capitalise'",
     "output_type": "error",
     "traceback": [
      "\u001b[1;31m---------------------------------------------------------------------------\u001b[0m",
      "\u001b[1;31mAttributeError\u001b[0m                            Traceback (most recent call last)",
      "Input \u001b[1;32mIn [139]\u001b[0m, in \u001b[0;36m<cell line: 1>\u001b[1;34m()\u001b[0m\n\u001b[1;32m----> 1\u001b[0m \u001b[43mR6\u001b[49m\u001b[38;5;241;43m.\u001b[39;49m\u001b[43mcapitalise\u001b[49m()\n",
      "\u001b[1;31mAttributeError\u001b[0m: 'str' object has no attribute 'capitalise'"
     ]
    }
   ],
   "source": [
    "R6.capitalise()"
   ]
  },
  {
   "cell_type": "code",
   "execution_count": 140,
   "id": "e0e908dd",
   "metadata": {},
   "outputs": [
    {
     "data": {
      "text/plain": [
       "'Learning somthing'"
      ]
     },
     "execution_count": 140,
     "metadata": {},
     "output_type": "execute_result"
    }
   ],
   "source": [
    "R6.capitalize()"
   ]
  },
  {
   "cell_type": "code",
   "execution_count": 141,
   "id": "aedf50bb",
   "metadata": {},
   "outputs": [],
   "source": [
    "R7 = 'LowER CaSE'"
   ]
  },
  {
   "cell_type": "code",
   "execution_count": 142,
   "id": "762fb6da",
   "metadata": {},
   "outputs": [
    {
     "data": {
      "text/plain": [
       "'lOWer cAse'"
      ]
     },
     "execution_count": 142,
     "metadata": {},
     "output_type": "execute_result"
    }
   ],
   "source": [
    "R7.swapcase()"
   ]
  },
  {
   "cell_type": "code",
   "execution_count": 145,
   "id": "1e52146e",
   "metadata": {},
   "outputs": [],
   "source": [
    "R8 = '    Tr  ip    '"
   ]
  },
  {
   "cell_type": "code",
   "execution_count": 146,
   "id": "6b9f2df0",
   "metadata": {},
   "outputs": [
    {
     "data": {
      "text/plain": [
       "'Tr  ip'"
      ]
     },
     "execution_count": 146,
     "metadata": {},
     "output_type": "execute_result"
    }
   ],
   "source": [
    "R8.strip()"
   ]
  },
  {
   "cell_type": "code",
   "execution_count": 147,
   "id": "6ee2cc61",
   "metadata": {},
   "outputs": [
    {
     "data": {
      "text/plain": [
       "'Tr  ip    '"
      ]
     },
     "execution_count": 147,
     "metadata": {},
     "output_type": "execute_result"
    }
   ],
   "source": [
    "R8.lstrip()"
   ]
  },
  {
   "cell_type": "code",
   "execution_count": 148,
   "id": "70aea759",
   "metadata": {},
   "outputs": [
    {
     "data": {
      "text/plain": [
       "'    Tr  ip'"
      ]
     },
     "execution_count": 148,
     "metadata": {},
     "output_type": "execute_result"
    }
   ],
   "source": [
    "R8.rstrip()"
   ]
  },
  {
   "cell_type": "code",
   "execution_count": 150,
   "id": "d3f29db7",
   "metadata": {},
   "outputs": [
    {
     "data": {
      "text/plain": [
       "'raddaaddjaddaaddsaddeaddkaddhaddaaddr'"
      ]
     },
     "execution_count": 150,
     "metadata": {},
     "output_type": "execute_result"
    }
   ],
   "source": [
    "\"add\".join('rajasekhar')"
   ]
  },
  {
   "cell_type": "code",
   "execution_count": 151,
   "id": "b3bf4831",
   "metadata": {},
   "outputs": [
    {
     "data": {
      "text/plain": [
       "\"The principal divisions of the corporation are Industry, Energy, Healthcare (Siemens Healthineers), and Infrastructure & Cities, which represent the main activities of the corporation.[7][8][9] The corporation is a prominent maker of medical diagnostics equipment and its medical health-care division, which generates about 12 percent of the corporation's total sales, is its second-most profitable unit, after the industrial automation division. The corporation is a component of the Euro Stoxx 50 stock market index.[10] Siemens and its subsidiaries employ approximately 303,000 people worldwide and reported global revenue of around €62 billion in 2021[2] according to its earnings release.\""
      ]
     },
     "execution_count": 151,
     "metadata": {},
     "output_type": "execute_result"
    }
   ],
   "source": [
    "R4"
   ]
  },
  {
   "cell_type": "code",
   "execution_count": 152,
   "id": "494830ac",
   "metadata": {},
   "outputs": [
    {
     "data": {
      "text/plain": [
       "'Rajasekhar'"
      ]
     },
     "execution_count": 152,
     "metadata": {},
     "output_type": "execute_result"
    }
   ],
   "source": [
    "R3"
   ]
  },
  {
   "cell_type": "code",
   "execution_count": 154,
   "id": "4acebb89",
   "metadata": {},
   "outputs": [
    {
     "data": {
      "text/plain": [
       "'     Rajasekhar     '"
      ]
     },
     "execution_count": 154,
     "metadata": {},
     "output_type": "execute_result"
    }
   ],
   "source": [
    "R3.center(20, ' ')"
   ]
  },
  {
   "cell_type": "code",
   "execution_count": 156,
   "id": "d4de5e51",
   "metadata": {},
   "outputs": [
    {
     "data": {
      "text/plain": [
       "False"
      ]
     },
     "execution_count": 156,
     "metadata": {},
     "output_type": "execute_result"
    }
   ],
   "source": [
    "R5.isupper()"
   ]
  },
  {
   "cell_type": "code",
   "execution_count": 157,
   "id": "23d5da7f",
   "metadata": {},
   "outputs": [
    {
     "data": {
      "text/plain": [
       "True"
      ]
     },
     "execution_count": 157,
     "metadata": {},
     "output_type": "execute_result"
    }
   ],
   "source": [
    "R5.islower()"
   ]
  },
  {
   "cell_type": "code",
   "execution_count": 158,
   "id": "fd4f9830",
   "metadata": {},
   "outputs": [],
   "source": [
    "R9 ='    '"
   ]
  },
  {
   "cell_type": "code",
   "execution_count": 159,
   "id": "e9518396",
   "metadata": {},
   "outputs": [
    {
     "data": {
      "text/plain": [
       "True"
      ]
     },
     "execution_count": 159,
     "metadata": {},
     "output_type": "execute_result"
    }
   ],
   "source": [
    "R9.isspace()"
   ]
  },
  {
   "cell_type": "code",
   "execution_count": 160,
   "id": "17e5622d",
   "metadata": {},
   "outputs": [],
   "source": [
    "R10 = '36525'"
   ]
  },
  {
   "cell_type": "code",
   "execution_count": 161,
   "id": "010ce7a8",
   "metadata": {},
   "outputs": [
    {
     "data": {
      "text/plain": [
       "<function str.isdigit()>"
      ]
     },
     "execution_count": 161,
     "metadata": {},
     "output_type": "execute_result"
    }
   ],
   "source": [
    "R10.isdigit"
   ]
  },
  {
   "cell_type": "code",
   "execution_count": 162,
   "id": "b33d31e7",
   "metadata": {},
   "outputs": [
    {
     "data": {
      "text/plain": [
       "True"
      ]
     },
     "execution_count": 162,
     "metadata": {},
     "output_type": "execute_result"
    }
   ],
   "source": [
    "R10.isdigit()"
   ]
  },
  {
   "cell_type": "code",
   "execution_count": 163,
   "id": "0e1a2b92",
   "metadata": {},
   "outputs": [],
   "source": [
    "R11 = \"545fg\""
   ]
  },
  {
   "cell_type": "code",
   "execution_count": 164,
   "id": "9a091c3d",
   "metadata": {},
   "outputs": [
    {
     "data": {
      "text/plain": [
       "False"
      ]
     },
     "execution_count": 164,
     "metadata": {},
     "output_type": "execute_result"
    }
   ],
   "source": [
    "R11.isdigit()"
   ]
  },
  {
   "cell_type": "code",
   "execution_count": 165,
   "id": "aa7808e3",
   "metadata": {},
   "outputs": [
    {
     "ename": "AttributeError",
     "evalue": "'str' object has no attribute 'isalphanumeric'",
     "output_type": "error",
     "traceback": [
      "\u001b[1;31m---------------------------------------------------------------------------\u001b[0m",
      "\u001b[1;31mAttributeError\u001b[0m                            Traceback (most recent call last)",
      "Input \u001b[1;32mIn [165]\u001b[0m, in \u001b[0;36m<cell line: 1>\u001b[1;34m()\u001b[0m\n\u001b[1;32m----> 1\u001b[0m \u001b[43mR11\u001b[49m\u001b[38;5;241;43m.\u001b[39;49m\u001b[43misalphanumeric\u001b[49m()\n",
      "\u001b[1;31mAttributeError\u001b[0m: 'str' object has no attribute 'isalphanumeric'"
     ]
    }
   ],
   "source": [
    "R11.isalphanumeric()"
   ]
  },
  {
   "cell_type": "code",
   "execution_count": 166,
   "id": "105ceaba",
   "metadata": {},
   "outputs": [
    {
     "data": {
      "text/plain": [
       "True"
      ]
     },
     "execution_count": 166,
     "metadata": {},
     "output_type": "execute_result"
    }
   ],
   "source": [
    "R11.isalnum()"
   ]
  },
  {
   "cell_type": "code",
   "execution_count": 167,
   "id": "3d3fb914",
   "metadata": {},
   "outputs": [
    {
     "data": {
      "text/plain": [
       "True"
      ]
     },
     "execution_count": 167,
     "metadata": {},
     "output_type": "execute_result"
    }
   ],
   "source": [
    "R3.isalnum()"
   ]
  },
  {
   "cell_type": "code",
   "execution_count": 168,
   "id": "b8808d99",
   "metadata": {},
   "outputs": [
    {
     "ename": "AttributeError",
     "evalue": "'str' object has no attribute 'isaipha'",
     "output_type": "error",
     "traceback": [
      "\u001b[1;31m---------------------------------------------------------------------------\u001b[0m",
      "\u001b[1;31mAttributeError\u001b[0m                            Traceback (most recent call last)",
      "Input \u001b[1;32mIn [168]\u001b[0m, in \u001b[0;36m<cell line: 1>\u001b[1;34m()\u001b[0m\n\u001b[1;32m----> 1\u001b[0m \u001b[43mR11\u001b[49m\u001b[38;5;241;43m.\u001b[39;49m\u001b[43misaipha\u001b[49m()\n",
      "\u001b[1;31mAttributeError\u001b[0m: 'str' object has no attribute 'isaipha'"
     ]
    }
   ],
   "source": [
    "R11.isaipha()"
   ]
  },
  {
   "cell_type": "code",
   "execution_count": 169,
   "id": "4196c040",
   "metadata": {},
   "outputs": [
    {
     "data": {
      "text/plain": [
       "False"
      ]
     },
     "execution_count": 169,
     "metadata": {},
     "output_type": "execute_result"
    }
   ],
   "source": [
    "R11.isalpha()"
   ]
  },
  {
   "cell_type": "code",
   "execution_count": 170,
   "id": "7aa2026b",
   "metadata": {},
   "outputs": [
    {
     "data": {
      "text/plain": [
       "'Rajasekhar'"
      ]
     },
     "execution_count": 170,
     "metadata": {},
     "output_type": "execute_result"
    }
   ],
   "source": [
    "R3"
   ]
  },
  {
   "cell_type": "code",
   "execution_count": 171,
   "id": "51413a5e",
   "metadata": {},
   "outputs": [
    {
     "ename": "AttributeError",
     "evalue": "'str' object has no attribute 'startwith'",
     "output_type": "error",
     "traceback": [
      "\u001b[1;31m---------------------------------------------------------------------------\u001b[0m",
      "\u001b[1;31mAttributeError\u001b[0m                            Traceback (most recent call last)",
      "Input \u001b[1;32mIn [171]\u001b[0m, in \u001b[0;36m<cell line: 1>\u001b[1;34m()\u001b[0m\n\u001b[1;32m----> 1\u001b[0m \u001b[43mR3\u001b[49m\u001b[38;5;241;43m.\u001b[39;49m\u001b[43mstartwith\u001b[49m(\u001b[38;5;124m'\u001b[39m\u001b[38;5;124ms\u001b[39m\u001b[38;5;124m'\u001b[39m)\n",
      "\u001b[1;31mAttributeError\u001b[0m: 'str' object has no attribute 'startwith'"
     ]
    }
   ],
   "source": [
    "R3.startwith('s')"
   ]
  },
  {
   "cell_type": "code",
   "execution_count": 172,
   "id": "69cf3de3",
   "metadata": {},
   "outputs": [
    {
     "data": {
      "text/plain": [
       "False"
      ]
     },
     "execution_count": 172,
     "metadata": {},
     "output_type": "execute_result"
    }
   ],
   "source": [
    "R3.startswith('i')"
   ]
  },
  {
   "cell_type": "code",
   "execution_count": 173,
   "id": "b23fecb9",
   "metadata": {},
   "outputs": [
    {
     "data": {
      "text/plain": [
       "False"
      ]
     },
     "execution_count": 173,
     "metadata": {},
     "output_type": "execute_result"
    }
   ],
   "source": [
    "R3.startswith('r')"
   ]
  },
  {
   "cell_type": "code",
   "execution_count": 174,
   "id": "7690434c",
   "metadata": {},
   "outputs": [
    {
     "data": {
      "text/plain": [
       "True"
      ]
     },
     "execution_count": 174,
     "metadata": {},
     "output_type": "execute_result"
    }
   ],
   "source": [
    "R3.startswith('R')"
   ]
  },
  {
   "cell_type": "code",
   "execution_count": 175,
   "id": "9556bc26",
   "metadata": {},
   "outputs": [
    {
     "data": {
      "text/plain": [
       "False"
      ]
     },
     "execution_count": 175,
     "metadata": {},
     "output_type": "execute_result"
    }
   ],
   "source": [
    "R3.endswith('R')"
   ]
  },
  {
   "cell_type": "code",
   "execution_count": 176,
   "id": "13f5273b",
   "metadata": {},
   "outputs": [
    {
     "data": {
      "text/plain": [
       "True"
      ]
     },
     "execution_count": 176,
     "metadata": {},
     "output_type": "execute_result"
    }
   ],
   "source": [
    "R3.endswith('r')"
   ]
  },
  {
   "cell_type": "code",
   "execution_count": 177,
   "id": "6b94e28e",
   "metadata": {},
   "outputs": [
    {
     "data": {
      "text/plain": [
       "'545fg'"
      ]
     },
     "execution_count": 177,
     "metadata": {},
     "output_type": "execute_result"
    }
   ],
   "source": [
    "R11"
   ]
  },
  {
   "cell_type": "code",
   "execution_count": 178,
   "id": "7de9b928",
   "metadata": {},
   "outputs": [
    {
     "data": {
      "text/plain": [
       "False"
      ]
     },
     "execution_count": 178,
     "metadata": {},
     "output_type": "execute_result"
    }
   ],
   "source": [
    "R11.isnumeric()"
   ]
  },
  {
   "cell_type": "code",
   "execution_count": 179,
   "id": "2ab69643",
   "metadata": {},
   "outputs": [
    {
     "data": {
      "text/plain": [
       "False"
      ]
     },
     "execution_count": 179,
     "metadata": {},
     "output_type": "execute_result"
    }
   ],
   "source": [
    "R11.isdigit()"
   ]
  },
  {
   "cell_type": "code",
   "execution_count": 180,
   "id": "fa2a3a45",
   "metadata": {},
   "outputs": [],
   "source": [
    "R12 = \"15265\""
   ]
  },
  {
   "cell_type": "code",
   "execution_count": 181,
   "id": "168f521d",
   "metadata": {},
   "outputs": [
    {
     "data": {
      "text/plain": [
       "True"
      ]
     },
     "execution_count": 181,
     "metadata": {},
     "output_type": "execute_result"
    }
   ],
   "source": [
    "R12.isnumeric()"
   ]
  },
  {
   "cell_type": "code",
   "execution_count": 182,
   "id": "a908f597",
   "metadata": {},
   "outputs": [
    {
     "data": {
      "text/plain": [
       "True"
      ]
     },
     "execution_count": 182,
     "metadata": {},
     "output_type": "execute_result"
    }
   ],
   "source": [
    "R12.isdigit()"
   ]
  },
  {
   "cell_type": "code",
   "execution_count": 185,
   "id": "80d9e606",
   "metadata": {},
   "outputs": [],
   "source": [
    "R13 = \"56.36\""
   ]
  },
  {
   "cell_type": "code",
   "execution_count": 187,
   "id": "d56a7171",
   "metadata": {},
   "outputs": [
    {
     "data": {
      "text/plain": [
       "True"
      ]
     },
     "execution_count": 187,
     "metadata": {},
     "output_type": "execute_result"
    }
   ],
   "source": [
    "R13.isnumeric()"
   ]
  },
  {
   "cell_type": "code",
   "execution_count": 188,
   "id": "a5b3172b",
   "metadata": {},
   "outputs": [],
   "source": [
    "R14 = 'something'"
   ]
  },
  {
   "cell_type": "code",
   "execution_count": 190,
   "id": "389f202e",
   "metadata": {},
   "outputs": [
    {
     "data": {
      "text/plain": [
       "<reversed at 0x23b62d2d910>"
      ]
     },
     "execution_count": 190,
     "metadata": {},
     "output_type": "execute_result"
    }
   ],
   "source": [
    "reversed(R14)"
   ]
  },
  {
   "cell_type": "code",
   "execution_count": 191,
   "id": "2afc34cd",
   "metadata": {},
   "outputs": [
    {
     "ename": "NameError",
     "evalue": "name 'r14' is not defined",
     "output_type": "error",
     "traceback": [
      "\u001b[1;31m---------------------------------------------------------------------------\u001b[0m",
      "\u001b[1;31mNameError\u001b[0m                                 Traceback (most recent call last)",
      "Input \u001b[1;32mIn [191]\u001b[0m, in \u001b[0;36m<cell line: 1>\u001b[1;34m()\u001b[0m\n\u001b[1;32m----> 1\u001b[0m \u001b[38;5;124m'\u001b[39m\u001b[38;5;124m \u001b[39m\u001b[38;5;124m'\u001b[39m\u001b[38;5;241m.\u001b[39mjoin(\u001b[38;5;28mreversed\u001b[39m(\u001b[43mr14\u001b[49m))\n",
      "\u001b[1;31mNameError\u001b[0m: name 'r14' is not defined"
     ]
    }
   ],
   "source": [
    "' '.join(reversed(r14))"
   ]
  },
  {
   "cell_type": "code",
   "execution_count": 193,
   "id": "c6a695a7",
   "metadata": {},
   "outputs": [
    {
     "data": {
      "text/plain": [
       "'gnihtemos'"
      ]
     },
     "execution_count": 193,
     "metadata": {},
     "output_type": "execute_result"
    }
   ],
   "source": [
    "''.join(reversed(R14))"
   ]
  },
  {
   "cell_type": "code",
   "execution_count": 194,
   "id": "c03a3442",
   "metadata": {},
   "outputs": [
    {
     "data": {
      "text/plain": [
       "'g  n  i  h  t  e  m  o  s'"
      ]
     },
     "execution_count": 194,
     "metadata": {},
     "output_type": "execute_result"
    }
   ],
   "source": [
    "'  '.join(reversed(R14))"
   ]
  },
  {
   "cell_type": "code",
   "execution_count": 198,
   "id": "0279a86a",
   "metadata": {},
   "outputs": [],
   "source": [
    "R15 = 'raja\\tsekhar\\t  reddy'"
   ]
  },
  {
   "cell_type": "code",
   "execution_count": 199,
   "id": "2ad8dc25",
   "metadata": {},
   "outputs": [
    {
     "data": {
      "text/plain": [
       "'raja    sekhar    reddy'"
      ]
     },
     "execution_count": 199,
     "metadata": {},
     "output_type": "execute_result"
    }
   ],
   "source": [
    "R15.expandtabs()"
   ]
  },
  {
   "cell_type": "code",
   "execution_count": null,
   "id": "6ab10d10",
   "metadata": {},
   "outputs": [],
   "source": [
    "Q1. Try to extract data from index one to index 300 with a jump of 3\n",
    "V1 = \"this is My First Python programming class and i am learNING python string and its function\""
   ]
  }
 ],
 "metadata": {
  "kernelspec": {
   "display_name": "Python 3 (ipykernel)",
   "language": "python",
   "name": "python3"
  },
  "language_info": {
   "codemirror_mode": {
    "name": "ipython",
    "version": 3
   },
   "file_extension": ".py",
   "mimetype": "text/x-python",
   "name": "python",
   "nbconvert_exporter": "python",
   "pygments_lexer": "ipython3",
   "version": "3.9.12"
  }
 },
 "nbformat": 4,
 "nbformat_minor": 5
}
